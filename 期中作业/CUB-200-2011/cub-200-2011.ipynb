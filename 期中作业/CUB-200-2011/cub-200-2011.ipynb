{
 "cells": [
  {
   "cell_type": "markdown",
   "id": "262dd511",
   "metadata": {
    "papermill": {
     "duration": 0.004886,
     "end_time": "2024-05-21T09:36:45.313349",
     "exception": false,
     "start_time": "2024-05-21T09:36:45.308463",
     "status": "completed"
    },
    "tags": []
   },
   "source": [
    "### 1. Preliminray"
   ]
  },
  {
   "cell_type": "code",
   "execution_count": 8,
   "id": "8875a2ad",
   "metadata": {},
   "outputs": [
    {
     "name": "stdout",
     "output_type": "stream",
     "text": [
      "The autoreload extension is already loaded. To reload it, use:\n",
      "  %reload_ext autoreload\n"
     ]
    }
   ],
   "source": [
    "%load_ext autoreload\n",
    "%autoreload 2"
   ]
  },
  {
   "cell_type": "code",
   "execution_count": 9,
   "id": "052dbaf3",
   "metadata": {
    "execution": {
     "iopub.execute_input": "2024-05-21T09:36:45.324717Z",
     "iopub.status.busy": "2024-05-21T09:36:45.324209Z",
     "iopub.status.idle": "2024-05-21T09:36:45.328619Z",
     "shell.execute_reply": "2024-05-21T09:36:45.327723Z"
    },
    "papermill": {
     "duration": 0.012209,
     "end_time": "2024-05-21T09:36:45.330537",
     "exception": false,
     "start_time": "2024-05-21T09:36:45.318328",
     "status": "completed"
    },
    "tags": []
   },
   "outputs": [],
   "source": [
    "import os\n",
    "from itertools import product\n",
    "from solver import train_resnet_with_cub\n",
    "from solver import test_resnet_with_cub\n",
    "\n",
    "KAGGLE_INPUT_DIR = \"cub2002011/CUB_200_2011\"\n",
    "DATA_PATH = os.path.join(\"/kaggle\", \"input\", KAGGLE_INPUT_DIR)\n",
    "\n",
    "# NOTE: you need to uncomment the following code if the model is trained in local\n",
    "DATA_PATH = os.path.join(\"data\", \"CUB_200_2011\")\n",
    "\n",
    "os.environ['TF_ENABLE_ONEDNN_OPTS'] = '0'"
   ]
  },
  {
   "cell_type": "markdown",
   "id": "aec719a6",
   "metadata": {
    "papermill": {
     "duration": 0.00498,
     "end_time": "2024-05-21T09:36:45.395195",
     "exception": false,
     "start_time": "2024-05-21T09:36:45.390215",
     "status": "completed"
    },
    "tags": []
   },
   "source": [
    "### 2. Grid-Search Optimal Learning Rate"
   ]
  },
  {
   "cell_type": "markdown",
   "id": "d85a8369",
   "metadata": {},
   "source": [
    "#### 2.1 Set the range of hyper-parameters "
   ]
  },
  {
   "cell_type": "code",
   "execution_count": 17,
   "id": "5dd38fe2",
   "metadata": {
    "execution": {
     "iopub.execute_input": "2024-05-21T09:36:45.406404Z",
     "iopub.status.busy": "2024-05-21T09:36:45.406029Z",
     "iopub.status.idle": "2024-05-21T09:36:45.409638Z",
     "shell.execute_reply": "2024-05-21T09:36:45.408859Z"
    },
    "papermill": {
     "duration": 0.011256,
     "end_time": "2024-05-21T09:36:45.411480",
     "exception": false,
     "start_time": "2024-05-21T09:36:45.400224",
     "status": "completed"
    },
    "tags": []
   },
   "outputs": [],
   "source": [
    "# set hyper-parameters here\n",
    "num_epochs = [15]\n",
    "fine_tuning_lrs = [5e-5, 1e-4, 5e-4]\n",
    "output_lrs = [1e-3, 2e-3, 5e-3, 8e-3, 1e-2]\n",
    "\n",
    "configurations = list(product(fine_tuning_lrs, output_lrs))"
   ]
  },
  {
   "cell_type": "markdown",
   "id": "10b5a000",
   "metadata": {
    "papermill": {
     "duration": 0.005585,
     "end_time": "2024-05-21T09:36:45.422168",
     "exception": false,
     "start_time": "2024-05-21T09:36:45.416583",
     "status": "completed"
    },
    "tags": []
   },
   "source": [
    "#### 2.2 Train"
   ]
  },
  {
   "cell_type": "code",
   "execution_count": null,
   "id": "a6384001",
   "metadata": {
    "execution": {
     "iopub.execute_input": "2024-05-21T09:36:45.433225Z",
     "iopub.status.busy": "2024-05-21T09:36:45.432720Z",
     "iopub.status.idle": "2024-05-21T09:36:45.436493Z",
     "shell.execute_reply": "2024-05-21T09:36:45.435701Z"
    },
    "papermill": {
     "duration": 0.011134,
     "end_time": "2024-05-21T09:36:45.438231",
     "exception": false,
     "start_time": "2024-05-21T09:36:45.427097",
     "status": "completed"
    },
    "tags": []
   },
   "outputs": [],
   "source": [
    "best_accs = []\n",
    "\n",
    "# train with the pretrained model\n",
    "for config in configurations:\n",
    "    curr_best_acc = train_resnet_with_cub(DATA_PATH, num_epochs, fine_tuning_lr=config[0], output_lr=config[1])\n",
    "    best_accs.extend(curr_best_acc)\n",
    "\n",
    "best_acc = max(best_accs)    \n",
    "best_fine_tune_lr, best_output_lr = None, None\n",
    "\n",
    "# write the results into a txt file\n",
    "with open('best_accuracy_lr.txt', 'w') as f:\n",
    "    f.write(\"Configuration        Accuracy\\n\")\n",
    "    f.write(\"=\" * 30 + \"\\n\")\n",
    "    for config, accuracy in zip(configurations, best_accs):\n",
    "        # find the best config\n",
    "        if accuracy == best_acc and best_fine_tune_lr is None:\n",
    "            best_fine_tune_lr, best_output_lr = config\n",
    "        # write the training record into file \n",
    "        f.write(\"({:>7.5f}, {:>7.5f})   {:>8.6f}\\n\".format(config[0], config[1], accuracy))"
   ]
  },
  {
   "cell_type": "markdown",
   "id": "1e51d189",
   "metadata": {},
   "source": [
    "#### 2.3 Inspect the Accuracy"
   ]
  },
  {
   "cell_type": "code",
   "execution_count": null,
   "id": "4082cd0c",
   "metadata": {},
   "outputs": [],
   "source": [
    "# !more best_accuracy_lr.txt"
   ]
  },
  {
   "cell_type": "markdown",
   "id": "aaf6a831",
   "metadata": {
    "papermill": {
     "duration": 0.004855,
     "end_time": "2024-05-21T09:36:45.448259",
     "exception": false,
     "start_time": "2024-05-21T09:36:45.443404",
     "status": "completed"
    },
    "tags": []
   },
   "source": [
    "### 3. Find the Optimal Training Epoch"
   ]
  },
  {
   "cell_type": "code",
   "execution_count": null,
   "id": "803f640a",
   "metadata": {
    "execution": {
     "iopub.execute_input": "2024-05-21T09:36:45.459717Z",
     "iopub.status.busy": "2024-05-21T09:36:45.459461Z",
     "iopub.status.idle": "2024-05-21T12:21:21.577410Z",
     "shell.execute_reply": "2024-05-21T12:21:21.576463Z"
    },
    "papermill": {
     "duration": 9876.149724,
     "end_time": "2024-05-21T12:21:21.603232",
     "exception": false,
     "start_time": "2024-05-21T09:36:45.453508",
     "status": "completed"
    },
    "tags": []
   },
   "outputs": [],
   "source": [
    "num_epochs = [15, 30, 45]\n",
    "\n",
    "# init the configurations\n",
    "best_accs = []\n",
    "\n",
    "# train with the pretrained model\n",
    "curr_best_acc = train_resnet_with_cub(DATA_PATH, num_epochs, best_fine_tune_lr, best_output_lr, save=True)\n",
    "best_accs.extend(curr_best_acc)\n",
    "    \n",
    "# write the results into a txt file\n",
    "with open('best_accuracy_ep.txt', 'w') as f:\n",
    "    f.write(\"Epoch  Accuracy\\n\")\n",
    "    f.write(\"=\" * 50 + \"\\n\")\n",
    "    for num_epoch, accuracy in zip(num_epochs, best_accs):\n",
    "        f.write(\"{:>2}     {:>8.6f}\\n\".format(num_epoch, accuracy))"
   ]
  },
  {
   "cell_type": "markdown",
   "id": "ef84d599",
   "metadata": {},
   "source": [
    "### 4. Train with Random Initialized Weights"
   ]
  },
  {
   "cell_type": "code",
   "execution_count": null,
   "id": "7de0f23b",
   "metadata": {},
   "outputs": [],
   "source": [
    "curr_best_acc = train_resnet_with_cub(DATA_PATH, num_epochs, best_fine_tune_lr, best_output_lr, pretrain=False)"
   ]
  },
  {
   "cell_type": "markdown",
   "id": "cd150e1f",
   "metadata": {},
   "source": [
    "### 5. Test the trained model"
   ]
  },
  {
   "cell_type": "code",
   "execution_count": 16,
   "id": "3cd63e5b",
   "metadata": {},
   "outputs": [
    {
     "name": "stderr",
     "output_type": "stream",
     "text": [
      "100%|██████████| 94/94 [02:50<00:00,  1.81s/it]\n"
     ]
    },
    {
     "name": "stdout",
     "output_type": "stream",
     "text": [
      "For the best model on the CUB dataset, Top-5 train accuracy is 1.000000, Top-1 train accuracy is 1.000000\n"
     ]
    },
    {
     "name": "stderr",
     "output_type": "stream",
     "text": [
      "100%|██████████| 91/91 [02:43<00:00,  1.80s/it]"
     ]
    },
    {
     "name": "stdout",
     "output_type": "stream",
     "text": [
      "For the best model on the CUB dataset, Top-5  test accuracy is 0.880911, Top-1  test accuracy is 0.639455\n"
     ]
    },
    {
     "name": "stderr",
     "output_type": "stream",
     "text": [
      "\n"
     ]
    }
   ],
   "source": [
    "MODEL_PATH = os.path.join(\"Fine_Grain\", \"resnet18_cub.pth\")\n",
    "test_resnet_with_cub(DATA_PATH, MODEL_PATH)"
   ]
  }
 ],
 "metadata": {
  "kaggle": {
   "accelerator": "gpu",
   "dataSources": [
    {
     "datasetId": 2534241,
     "sourceId": 5140550,
     "sourceType": "datasetVersion"
    }
   ],
   "dockerImageVersionId": 30699,
   "isGpuEnabled": true,
   "isInternetEnabled": true,
   "language": "python",
   "sourceType": "notebook"
  },
  "kernelspec": {
   "display_name": "Python 3",
   "language": "python",
   "name": "python3"
  },
  "language_info": {
   "codemirror_mode": {
    "name": "ipython",
    "version": 3
   },
   "file_extension": ".py",
   "mimetype": "text/x-python",
   "name": "python",
   "nbconvert_exporter": "python",
   "pygments_lexer": "ipython3",
   "version": "3.11.6"
  },
  "papermill": {
   "default_parameters": {},
   "duration": 9900.128476,
   "end_time": "2024-05-21T12:21:25.036629",
   "environment_variables": {},
   "exception": null,
   "input_path": "__notebook__.ipynb",
   "output_path": "__notebook__.ipynb",
   "parameters": {},
   "start_time": "2024-05-21T09:36:24.908153",
   "version": "2.5.0"
  }
 },
 "nbformat": 4,
 "nbformat_minor": 5
}
