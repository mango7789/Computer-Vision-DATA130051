{
 "cells": [
  {
   "cell_type": "markdown",
   "id": "262dd511",
   "metadata": {
    "papermill": {
     "duration": 0.004886,
     "end_time": "2024-05-21T09:36:45.313349",
     "exception": false,
     "start_time": "2024-05-21T09:36:45.308463",
     "status": "completed"
    },
    "tags": []
   },
   "source": [
    "### 1. Preliminray"
   ]
  },
  {
   "cell_type": "code",
   "execution_count": 6,
   "id": "8875a2ad",
   "metadata": {},
   "outputs": [],
   "source": [
    "%load_ext autoreload\n",
    "%autoreload 2"
   ]
  },
  {
   "cell_type": "code",
   "execution_count": 7,
   "id": "052dbaf3",
   "metadata": {
    "execution": {
     "iopub.execute_input": "2024-05-21T09:36:45.324717Z",
     "iopub.status.busy": "2024-05-21T09:36:45.324209Z",
     "iopub.status.idle": "2024-05-21T09:36:45.328619Z",
     "shell.execute_reply": "2024-05-21T09:36:45.327723Z"
    },
    "papermill": {
     "duration": 0.012209,
     "end_time": "2024-05-21T09:36:45.330537",
     "exception": false,
     "start_time": "2024-05-21T09:36:45.318328",
     "status": "completed"
    },
    "tags": []
   },
   "outputs": [],
   "source": [
    "import os\n",
    "from itertools import product\n",
    "from solver import train_resnet_with_cub\n",
    "from solver import test_resnet_with_cub\n",
    "\n",
    "KAGGLE_INPUT_DIR = \"cub2002011/CUB_200_2011\"\n",
    "DATA_PATH = os.path.join(\"/kaggle\", \"input\", KAGGLE_INPUT_DIR)\n",
    "\n",
    "# NOTE: you need to uncomment the following code if the model is trained in local\n",
    "# DATA_PATH = os.path.join(\"data\", \"CUB_200_2011\")\n",
    "\n",
    "os.environ['TF_ENABLE_ONEDNN_OPTS'] = '0'"
   ]
  },
  {
   "cell_type": "markdown",
   "id": "aec719a6",
   "metadata": {
    "papermill": {
     "duration": 0.00498,
     "end_time": "2024-05-21T09:36:45.395195",
     "exception": false,
     "start_time": "2024-05-21T09:36:45.390215",
     "status": "completed"
    },
    "tags": []
   },
   "source": [
    "### 2. Grid-Search Optimal Learning Rates"
   ]
  },
  {
   "cell_type": "markdown",
   "id": "d85a8369",
   "metadata": {},
   "source": [
    "#### 2.1 Set the range of hyper-parameters "
   ]
  },
  {
   "cell_type": "code",
   "execution_count": 17,
   "id": "5dd38fe2",
   "metadata": {
    "execution": {
     "iopub.execute_input": "2024-05-21T09:36:45.406404Z",
     "iopub.status.busy": "2024-05-21T09:36:45.406029Z",
     "iopub.status.idle": "2024-05-21T09:36:45.409638Z",
     "shell.execute_reply": "2024-05-21T09:36:45.408859Z"
    },
    "papermill": {
     "duration": 0.011256,
     "end_time": "2024-05-21T09:36:45.411480",
     "exception": false,
     "start_time": "2024-05-21T09:36:45.400224",
     "status": "completed"
    },
    "tags": []
   },
   "outputs": [],
   "source": [
    "# set hyper-parameters here\n",
    "num_epochs = [15]\n",
    "fine_tuning_lrs = [5e-5, 1e-4, 5e-4]\n",
    "output_lrs = [1e-3, 2e-3, 5e-3, 8e-3, 1e-2]\n",
    "\n",
    "configurations = list(product(fine_tuning_lrs, output_lrs))"
   ]
  },
  {
   "cell_type": "markdown",
   "id": "10b5a000",
   "metadata": {
    "papermill": {
     "duration": 0.005585,
     "end_time": "2024-05-21T09:36:45.422168",
     "exception": false,
     "start_time": "2024-05-21T09:36:45.416583",
     "status": "completed"
    },
    "tags": []
   },
   "source": [
    "#### 2.2 Train"
   ]
  },
  {
   "cell_type": "code",
   "execution_count": null,
   "id": "a6384001",
   "metadata": {
    "execution": {
     "iopub.execute_input": "2024-05-21T09:36:45.433225Z",
     "iopub.status.busy": "2024-05-21T09:36:45.432720Z",
     "iopub.status.idle": "2024-05-21T09:36:45.436493Z",
     "shell.execute_reply": "2024-05-21T09:36:45.435701Z"
    },
    "papermill": {
     "duration": 0.011134,
     "end_time": "2024-05-21T09:36:45.438231",
     "exception": false,
     "start_time": "2024-05-21T09:36:45.427097",
     "status": "completed"
    },
    "tags": []
   },
   "outputs": [],
   "source": [
    "best_accs = []\n",
    "\n",
    "# train with the pretrained model\n",
    "for config in configurations:\n",
    "    curr_best_acc = train_resnet_with_cub(DATA_PATH, num_epochs, fine_tuning_lr=config[0], output_lr=config[1])\n",
    "    best_accs.extend(curr_best_acc)\n",
    "\n",
    "best_acc = max(best_accs)    \n",
    "best_fine_tune_lr, best_output_lr = None, None\n",
    "\n",
    "# write the results into a txt file\n",
    "with open('best_accuracy_lr.txt', 'w') as f:\n",
    "    f.write(\"Configuration        Accuracy\\n\")\n",
    "    f.write(\"=\" * 30 + \"\\n\")\n",
    "    for config, accuracy in zip(configurations, best_accs):\n",
    "        # find the best config\n",
    "        if accuracy == best_acc and best_fine_tune_lr is None:\n",
    "            best_fine_tune_lr, best_output_lr = config\n",
    "        # write the training record into file \n",
    "        f.write(\"({:>7.5f}, {:>7.5f})   {:>8.6f}\\n\".format(config[0], config[1], accuracy))"
   ]
  },
  {
   "cell_type": "markdown",
   "id": "1e51d189",
   "metadata": {},
   "source": [
    "#### 2.3 Inspect the Accuracy"
   ]
  },
  {
   "cell_type": "code",
   "execution_count": 5,
   "id": "4082cd0c",
   "metadata": {},
   "outputs": [
    {
     "name": "stdout",
     "output_type": "stream",
     "text": [
      "Configuration        Accuracy\n",
      "==============================\n",
      "(0.00005, 0.00100)   0.321540\n",
      "(0.00005, 0.00200)   0.429928\n",
      "(0.00005, 0.00500)   0.519330\n",
      "(0.00005, 0.00800)   0.542630\n",
      "(0.00005, 0.01000)   0.547463\n",
      "(0.00010, 0.00100)   0.427684\n",
      "(0.00010, 0.00200)   0.487401\n",
      "(0.00010, 0.00500)   0.553158\n",
      "(0.00010, 0.00800)   0.569900\n",
      "(0.00010, 0.01000)   0.575078\n",
      "(0.00050, 0.00100)   0.570590\n",
      "(0.00050, 0.00200)   0.583362\n",
      "(0.00050, 0.00500)   0.608215\n",
      "(0.00050, 0.00800)   0.618053\n",
      "(0.00050, 0.01000)   0.619261\n"
     ]
    }
   ],
   "source": [
    "!more .\\Output\\best_accuracy_lr.txt"
   ]
  },
  {
   "cell_type": "markdown",
   "id": "aaf6a831",
   "metadata": {
    "papermill": {
     "duration": 0.004855,
     "end_time": "2024-05-21T09:36:45.448259",
     "exception": false,
     "start_time": "2024-05-21T09:36:45.443404",
     "status": "completed"
    },
    "tags": []
   },
   "source": [
    "### 3. Find the Optimal Training Epoch"
   ]
  },
  {
   "cell_type": "markdown",
   "id": "058efea7",
   "metadata": {},
   "source": [
    "#### 3.1 Train on a larger epoch"
   ]
  },
  {
   "cell_type": "code",
   "execution_count": null,
   "id": "803f640a",
   "metadata": {
    "execution": {
     "iopub.execute_input": "2024-05-21T09:36:45.459717Z",
     "iopub.status.busy": "2024-05-21T09:36:45.459461Z",
     "iopub.status.idle": "2024-05-21T12:21:21.577410Z",
     "shell.execute_reply": "2024-05-21T12:21:21.576463Z"
    },
    "papermill": {
     "duration": 9876.149724,
     "end_time": "2024-05-21T12:21:21.603232",
     "exception": false,
     "start_time": "2024-05-21T09:36:45.453508",
     "status": "completed"
    },
    "tags": []
   },
   "outputs": [],
   "source": [
    "num_epochs = [15, 30, 45]\n",
    "\n",
    "# init the configurations\n",
    "best_accs = []\n",
    "\n",
    "# train with the pretrained model\n",
    "curr_best_acc = train_resnet_with_cub(DATA_PATH, num_epochs, best_fine_tune_lr, best_output_lr, save=True)\n",
    "best_accs.extend(curr_best_acc)\n",
    "    \n",
    "# write the results into a txt file\n",
    "with open('best_accuracy_ep.txt', 'w') as f:\n",
    "    f.write(\"Epoch  Accuracy\\n\")\n",
    "    f.write(\"=\" * 50 + \"\\n\")\n",
    "    for num_epoch, accuracy in zip(num_epochs, best_accs):\n",
    "        f.write(\"{:>2}     {:>8.6f}\\n\".format(num_epoch, accuracy))"
   ]
  },
  {
   "cell_type": "markdown",
   "id": "a3506965",
   "metadata": {},
   "source": [
    "#### 3.2 Inspect the Accuracy"
   ]
  },
  {
   "cell_type": "code",
   "execution_count": 4,
   "id": "b24b94b8",
   "metadata": {},
   "outputs": [
    {
     "name": "stdout",
     "output_type": "stream",
     "text": [
      "Epoch  Accuracy\n",
      "==================================================\n",
      "15     0.619261\n",
      "30     0.642734\n",
      "45     0.647912\n"
     ]
    }
   ],
   "source": [
    "!more .\\Output\\best_accuracy_ep.txt"
   ]
  },
  {
   "cell_type": "markdown",
   "id": "ef84d599",
   "metadata": {},
   "source": [
    "### 4. Train with Random Initialized Weights"
   ]
  },
  {
   "cell_type": "code",
   "execution_count": null,
   "id": "7de0f23b",
   "metadata": {},
   "outputs": [],
   "source": [
    "curr_best_acc = train_resnet_with_cub(DATA_PATH, num_epochs, best_fine_tune_lr, best_output_lr, pretrain=False)"
   ]
  },
  {
   "cell_type": "markdown",
   "id": "cd150e1f",
   "metadata": {},
   "source": [
    "### 5. Test the trained model"
   ]
  },
  {
   "cell_type": "code",
   "execution_count": 8,
   "id": "3cd63e5b",
   "metadata": {},
   "outputs": [
    {
     "name": "stderr",
     "output_type": "stream",
     "text": [
      "100%|██████████| 91/91 [02:50<00:00,  1.87s/it]"
     ]
    },
    {
     "name": "stdout",
     "output_type": "stream",
     "text": [
      "For the class     Black_footed_Albatross     on the CUB dataset, Top-1 accuracy is 0.666667, Top-5 accuracy is 0.933333\n",
      "For the class        Laysan_Albatross        on the CUB dataset, Top-1 accuracy is 0.600000, Top-5 accuracy is 0.800000\n",
      "For the class        Sooty_Albatross         on the CUB dataset, Top-1 accuracy is 0.547297, Top-5 accuracy is 1.000000\n",
      "For the class       Groove_billed_Ani        on the CUB dataset, Top-1 accuracy is 0.600000, Top-5 accuracy is 0.966667\n",
      "For the class         Crested_Auklet         on the CUB dataset, Top-1 accuracy is 0.793103, Top-5 accuracy is 0.913793\n",
      "For the class          Least_Auklet          on the CUB dataset, Top-1 accuracy is 0.909091, Top-5 accuracy is 1.000000\n",
      "For the class        Parakeet_Auklet         on the CUB dataset, Top-1 accuracy is 0.782609, Top-5 accuracy is 0.956522\n",
      "For the class       Rhinoceros_Auklet        on the CUB dataset, Top-1 accuracy is 0.611111, Top-5 accuracy is 0.888889\n",
      "For the class        Brewer_Blackbird        on the CUB dataset, Top-1 accuracy is 0.364356, Top-5 accuracy is 0.760396\n",
      "For the class      Red_winged_Blackbird      on the CUB dataset, Top-1 accuracy is 0.666667, Top-5 accuracy is 0.900000\n",
      "For the class        Rusty_Blackbird         on the CUB dataset, Top-1 accuracy is 0.458515, Top-5 accuracy is 0.672489\n",
      "For the class    Yellow_headed_Blackbird     on the CUB dataset, Top-1 accuracy is 0.807692, Top-5 accuracy is 0.923077\n",
      "For the class            Bobolink            on the CUB dataset, Top-1 accuracy is 0.741379, Top-5 accuracy is 0.879310\n",
      "For the class         Indigo_Bunting         on the CUB dataset, Top-1 accuracy is 0.866667, Top-5 accuracy is 1.000000\n",
      "For the class         Lazuli_Bunting         on the CUB dataset, Top-1 accuracy is 0.842271, Top-5 accuracy is 0.921136\n",
      "For the class        Painted_Bunting         on the CUB dataset, Top-1 accuracy is 0.821429, Top-5 accuracy is 0.928571\n",
      "For the class            Cardinal            on the CUB dataset, Top-1 accuracy is 0.666667, Top-5 accuracy is 0.851852\n",
      "For the class        Spotted_Catbird         on the CUB dataset, Top-1 accuracy is 0.846154, Top-5 accuracy is 1.000000\n",
      "For the class          Gray_Catbird          on the CUB dataset, Top-1 accuracy is 0.620690, Top-5 accuracy is 0.896552\n",
      "For the class      Yellow_breasted_Chat      on the CUB dataset, Top-1 accuracy is 0.506569, Top-5 accuracy is 0.886131\n",
      "For the class         Eastern_Towhee         on the CUB dataset, Top-1 accuracy is 0.766667, Top-5 accuracy is 0.933333\n",
      "For the class        Chuck_will_Widow        on the CUB dataset, Top-1 accuracy is 0.576923, Top-5 accuracy is 1.000000\n",
      "For the class        Brandt_Cormorant        on the CUB dataset, Top-1 accuracy is 0.535774, Top-5 accuracy is 0.960067\n",
      "For the class      Red_faced_Cormorant       on the CUB dataset, Top-1 accuracy is 0.636364, Top-5 accuracy is 1.000000\n",
      "For the class       Pelagic_Cormorant        on the CUB dataset, Top-1 accuracy is 0.564103, Top-5 accuracy is 0.910256\n",
      "For the class        Bronzed_Cowbird         on the CUB dataset, Top-1 accuracy is 0.666667, Top-5 accuracy is 0.966667\n",
      "For the class         Shiny_Cowbird          on the CUB dataset, Top-1 accuracy is 0.244526, Top-5 accuracy is 0.795620\n",
      "For the class         Brown_Creeper          on the CUB dataset, Top-1 accuracy is 0.724138, Top-5 accuracy is 0.965517\n",
      "For the class         American_Crow          on the CUB dataset, Top-1 accuracy is 0.369919, Top-5 accuracy is 0.853659\n",
      "For the class           Fish_Crow            on the CUB dataset, Top-1 accuracy is 0.166667, Top-5 accuracy is 0.666667\n",
      "For the class      Black_billed_Cuckoo       on the CUB dataset, Top-1 accuracy is 0.666667, Top-5 accuracy is 0.933333\n",
      "For the class        Mangrove_Cuckoo         on the CUB dataset, Top-1 accuracy is 0.501031, Top-5 accuracy is 0.818557\n",
      "For the class      Yellow_billed_Cuckoo      on the CUB dataset, Top-1 accuracy is 0.517241, Top-5 accuracy is 0.862069\n",
      "For the class    Gray_crowned_Rosy_Finch     on the CUB dataset, Top-1 accuracy is 0.764706, Top-5 accuracy is 0.938824\n",
      "For the class          Purple_Finch          on the CUB dataset, Top-1 accuracy is 0.933333, Top-5 accuracy is 1.000000\n",
      "For the class        Northern_Flicker        on the CUB dataset, Top-1 accuracy is 0.679487, Top-5 accuracy is 0.923077\n",
      "For the class       Acadian_Flycatcher       on the CUB dataset, Top-1 accuracy is 0.206897, Top-5 accuracy is 0.793103\n",
      "For the class    Great_Crested_Flycatcher    on the CUB dataset, Top-1 accuracy is 0.541522, Top-5 accuracy is 0.776817\n",
      "For the class        Least_Flycatcher        on the CUB dataset, Top-1 accuracy is 0.275862, Top-5 accuracy is 0.689655\n",
      "For the class     Olive_sided_Flycatcher     on the CUB dataset, Top-1 accuracy is 0.532995, Top-5 accuracy is 0.784264\n",
      "For the class   Scissor_tailed_Flycatcher    on the CUB dataset, Top-1 accuracy is 0.766667, Top-5 accuracy is 0.900000\n",
      "For the class      Vermilion_Flycatcher      on the CUB dataset, Top-1 accuracy is 0.700000, Top-5 accuracy is 1.000000\n",
      "For the class   Yellow_bellied_Flycatcher    on the CUB dataset, Top-1 accuracy is 0.334243, Top-5 accuracy is 0.631651\n",
      "For the class          Frigatebird           on the CUB dataset, Top-1 accuracy is 0.733333, Top-5 accuracy is 0.933333\n",
      "For the class        Northern_Fulmar         on the CUB dataset, Top-1 accuracy is 0.685121, Top-5 accuracy is 0.880623\n",
      "For the class            Gadwall             on the CUB dataset, Top-1 accuracy is 0.800000, Top-5 accuracy is 0.933333\n",
      "For the class       American_Goldfinch       on the CUB dataset, Top-1 accuracy is 0.813278, Top-5 accuracy is 1.000000\n",
      "For the class       European_Goldfinch       on the CUB dataset, Top-1 accuracy is 0.900000, Top-5 accuracy is 0.966667\n",
      "For the class      Boat_tailed_Grackle       on the CUB dataset, Top-1 accuracy is 0.666667, Top-5 accuracy is 0.900000\n",
      "For the class          Eared_Grebe           on the CUB dataset, Top-1 accuracy is 0.800000, Top-5 accuracy is 0.966667\n",
      "For the class          Horned_Grebe          on the CUB dataset, Top-1 accuracy is 0.593361, Top-5 accuracy is 0.960581\n",
      "For the class       Pied_billed_Grebe        on the CUB dataset, Top-1 accuracy is 0.766667, Top-5 accuracy is 0.966667\n",
      "For the class         Western_Grebe          on the CUB dataset, Top-1 accuracy is 0.669550, Top-5 accuracy is 1.000000\n",
      "For the class         Blue_Grosbeak          on the CUB dataset, Top-1 accuracy is 0.766667, Top-5 accuracy is 0.933333\n",
      "For the class        Evening_Grosbeak        on the CUB dataset, Top-1 accuracy is 0.776423, Top-5 accuracy is 0.959350\n",
      "For the class         Pine_Grosbeak          on the CUB dataset, Top-1 accuracy is 0.833333, Top-5 accuracy is 1.000000\n",
      "For the class     Rose_breasted_Grosbeak     on the CUB dataset, Top-1 accuracy is 0.900000, Top-5 accuracy is 0.933333\n",
      "For the class        Pigeon_Guillemot        on the CUB dataset, Top-1 accuracy is 0.593151, Top-5 accuracy is 0.926027\n",
      "For the class        California_Gull         on the CUB dataset, Top-1 accuracy is 0.133333, Top-5 accuracy is 0.766667\n",
      "For the class      Glaucous_winged_Gull      on the CUB dataset, Top-1 accuracy is 0.302064, Top-5 accuracy is 0.767355\n",
      "For the class         Heermann_Gull          on the CUB dataset, Top-1 accuracy is 0.833333, Top-5 accuracy is 1.000000\n",
      "For the class          Herring_Gull          on the CUB dataset, Top-1 accuracy is 0.333333, Top-5 accuracy is 0.782051\n",
      "For the class           Ivory_Gull           on the CUB dataset, Top-1 accuracy is 0.733333, Top-5 accuracy is 0.933333\n",
      "For the class        Ring_billed_Gull        on the CUB dataset, Top-1 accuracy is 0.296460, Top-5 accuracy is 0.836283\n",
      "For the class       Slaty_backed_Gull        on the CUB dataset, Top-1 accuracy is 0.550000, Top-5 accuracy is 0.650000\n",
      "For the class          Western_Gull          on the CUB dataset, Top-1 accuracy is 0.733333, Top-5 accuracy is 0.866667\n",
      "For the class        Anna_Hummingbird        on the CUB dataset, Top-1 accuracy is 0.566667, Top-5 accuracy is 0.866667\n",
      "For the class   Ruby_throated_Hummingbird    on the CUB dataset, Top-1 accuracy is 0.500000, Top-5 accuracy is 0.900000\n",
      "For the class       Rufous_Hummingbird       on the CUB dataset, Top-1 accuracy is 0.511561, Top-5 accuracy is 0.924855\n",
      "For the class        Green_Violetear         on the CUB dataset, Top-1 accuracy is 1.000000, Top-5 accuracy is 1.000000\n",
      "For the class       Long_tailed_Jaeger       on the CUB dataset, Top-1 accuracy is 0.405109, Top-5 accuracy is 0.729927\n",
      "For the class        Pomarine_Jaeger         on the CUB dataset, Top-1 accuracy is 0.233333, Top-5 accuracy is 0.733333\n",
      "For the class            Blue_Jay            on the CUB dataset, Top-1 accuracy is 0.807692, Top-5 accuracy is 0.897436\n",
      "For the class          Florida_Jay           on the CUB dataset, Top-1 accuracy is 0.933333, Top-5 accuracy is 1.000000\n",
      "For the class           Green_Jay            on the CUB dataset, Top-1 accuracy is 0.941645, Top-5 accuracy is 0.970822\n",
      "For the class        Dark_eyed_Junco         on the CUB dataset, Top-1 accuracy is 0.833333, Top-5 accuracy is 0.933333\n",
      "For the class       Tropical_Kingbird        on the CUB dataset, Top-1 accuracy is 0.776817, Top-5 accuracy is 0.908304\n",
      "For the class         Gray_Kingbird          on the CUB dataset, Top-1 accuracy is 0.689655, Top-5 accuracy is 1.000000\n",
      "For the class       Belted_Kingfisher        on the CUB dataset, Top-1 accuracy is 0.606599, Top-5 accuracy is 0.893401\n",
      "For the class        Green_Kingfisher        on the CUB dataset, Top-1 accuracy is 0.600000, Top-5 accuracy is 0.866667\n",
      "For the class        Pied_Kingfisher         on the CUB dataset, Top-1 accuracy is 0.833333, Top-5 accuracy is 0.933333\n",
      "For the class       Ringed_Kingfisher        on the CUB dataset, Top-1 accuracy is 0.644670, Top-5 accuracy is 0.964467\n",
      "For the class   White_breasted_Kingfisher    on the CUB dataset, Top-1 accuracy is 0.866667, Top-5 accuracy is 0.966667\n",
      "For the class      Red_legged_Kittiwake      on the CUB dataset, Top-1 accuracy is 0.843077, Top-5 accuracy is 0.947692\n",
      "For the class          Horned_Lark           on the CUB dataset, Top-1 accuracy is 0.833333, Top-5 accuracy is 0.966667\n",
      "For the class          Pacific_Loon          on the CUB dataset, Top-1 accuracy is 0.757642, Top-5 accuracy is 1.000000\n",
      "For the class            Mallard             on the CUB dataset, Top-1 accuracy is 0.766667, Top-5 accuracy is 0.933333\n",
      "For the class       Western_Meadowlark       on the CUB dataset, Top-1 accuracy is 0.689655, Top-5 accuracy is 0.862069\n",
      "For the class        Hooded_Merganser        on the CUB dataset, Top-1 accuracy is 0.766667, Top-5 accuracy is 0.800000\n",
      "For the class     Red_breasted_Merganser     on the CUB dataset, Top-1 accuracy is 0.761538, Top-5 accuracy is 0.876923\n",
      "For the class          Mockingbird           on the CUB dataset, Top-1 accuracy is 0.366667, Top-5 accuracy is 0.766667\n",
      "For the class           Nighthawk            on the CUB dataset, Top-1 accuracy is 0.827791, Top-5 accuracy is 0.965558\n",
      "For the class        Clark_Nutcracker        on the CUB dataset, Top-1 accuracy is 0.900000, Top-5 accuracy is 1.000000\n",
      "For the class    White_breasted_Nuthatch     on the CUB dataset, Top-1 accuracy is 0.733333, Top-5 accuracy is 0.966667\n",
      "For the class        Baltimore_Oriole        on the CUB dataset, Top-1 accuracy is 0.776423, Top-5 accuracy is 0.922764\n",
      "For the class         Hooded_Oriole          on the CUB dataset, Top-1 accuracy is 0.633333, Top-5 accuracy is 0.800000\n",
      "For the class         Orchard_Oriole         on the CUB dataset, Top-1 accuracy is 0.656660, Top-5 accuracy is 0.739212\n",
      "For the class          Scott_Oriole          on the CUB dataset, Top-1 accuracy is 0.766667, Top-5 accuracy is 0.933333\n",
      "For the class            Ovenbird            on the CUB dataset, Top-1 accuracy is 0.756410, Top-5 accuracy is 0.910256\n",
      "For the class         Brown_Pelican          on the CUB dataset, Top-1 accuracy is 0.900000, Top-5 accuracy is 0.966667\n",
      "For the class         White_Pelican          on the CUB dataset, Top-1 accuracy is 0.823529, Top-5 accuracy is 1.000000\n",
      "For the class       Western_Wood_Pewee       on the CUB dataset, Top-1 accuracy is 0.233333, Top-5 accuracy is 0.600000\n",
      "For the class            Sayornis            on the CUB dataset, Top-1 accuracy is 0.366667, Top-5 accuracy is 0.900000\n",
      "For the class         American_Pipit         on the CUB dataset, Top-1 accuracy is 0.633333, Top-5 accuracy is 0.766667\n",
      "For the class         Whip_poor_Will         on the CUB dataset, Top-1 accuracy is 0.631579, Top-5 accuracy is 1.000000\n",
      "For the class         Horned_Puffin          on the CUB dataset, Top-1 accuracy is 0.800000, Top-5 accuracy is 0.933333\n",
      "For the class          Common_Raven          on the CUB dataset, Top-1 accuracy is 0.333333, Top-5 accuracy is 0.800000\n",
      "For the class       White_necked_Raven       on the CUB dataset, Top-1 accuracy is 0.558091, Top-5 accuracy is 0.829876\n",
      "For the class       American_Redstart        on the CUB dataset, Top-1 accuracy is 0.833333, Top-5 accuracy is 0.866667\n",
      "For the class           Geococcyx            on the CUB dataset, Top-1 accuracy is 0.868512, Top-5 accuracy is 0.948097\n",
      "For the class       Loggerhead_Shrike        on the CUB dataset, Top-1 accuracy is 0.400000, Top-5 accuracy is 0.933333\n",
      "For the class       Great_Grey_Shrike        on the CUB dataset, Top-1 accuracy is 0.626016, Top-5 accuracy is 0.922764\n",
      "For the class         Baird_Sparrow          on the CUB dataset, Top-1 accuracy is 0.850000, Top-5 accuracy is 1.000000\n",
      "For the class     Black_throated_Sparrow     on the CUB dataset, Top-1 accuracy is 0.633333, Top-5 accuracy is 0.800000\n",
      "For the class         Brewer_Sparrow         on the CUB dataset, Top-1 accuracy is 0.260674, Top-5 accuracy is 0.788764\n",
      "For the class        Chipping_Sparrow        on the CUB dataset, Top-1 accuracy is 0.400000, Top-5 accuracy is 0.800000\n",
      "For the class      Clay_colored_Sparrow      on the CUB dataset, Top-1 accuracy is 0.498824, Top-5 accuracy is 0.877647\n",
      "For the class         House_Sparrow          on the CUB dataset, Top-1 accuracy is 0.333333, Top-5 accuracy is 0.633333\n",
      "For the class         Field_Sparrow          on the CUB dataset, Top-1 accuracy is 0.495050, Top-5 accuracy is 0.900990\n",
      "For the class          Fox_Sparrow           on the CUB dataset, Top-1 accuracy is 0.500000, Top-5 accuracy is 0.733333\n",
      "For the class      Grasshopper_Sparrow       on the CUB dataset, Top-1 accuracy is 0.387283, Top-5 accuracy is 0.731214\n",
      "For the class         Harris_Sparrow         on the CUB dataset, Top-1 accuracy is 0.733333, Top-5 accuracy is 0.900000\n",
      "For the class        Henslow_Sparrow         on the CUB dataset, Top-1 accuracy is 0.666667, Top-5 accuracy is 0.966667\n",
      "For the class        Le_Conte_Sparrow        on the CUB dataset, Top-1 accuracy is 0.551724, Top-5 accuracy is 0.862069\n",
      "For the class        Lincoln_Sparrow         on the CUB dataset, Top-1 accuracy is 0.482759, Top-5 accuracy is 0.862069\n",
      "For the class  Nelson_Sharp_tailed_Sparrow   on the CUB dataset, Top-1 accuracy is 0.480392, Top-5 accuracy is 0.803922\n",
      "For the class        Savannah_Sparrow        on the CUB dataset, Top-1 accuracy is 0.533333, Top-5 accuracy is 0.766667\n",
      "For the class        Seaside_Sparrow         on the CUB dataset, Top-1 accuracy is 0.540000, Top-5 accuracy is 0.780000\n",
      "For the class          Song_Sparrow          on the CUB dataset, Top-1 accuracy is 0.600000, Top-5 accuracy is 0.866667\n",
      "For the class          Tree_Sparrow          on the CUB dataset, Top-1 accuracy is 0.561947, Top-5 accuracy is 0.800885\n",
      "For the class         Vesper_Sparrow         on the CUB dataset, Top-1 accuracy is 0.366667, Top-5 accuracy is 0.866667\n",
      "For the class     White_crowned_Sparrow      on the CUB dataset, Top-1 accuracy is 0.730769, Top-5 accuracy is 0.935897\n",
      "For the class     White_throated_Sparrow     on the CUB dataset, Top-1 accuracy is 0.700000, Top-5 accuracy is 0.900000\n",
      "For the class      Cape_Glossy_Starling      on the CUB dataset, Top-1 accuracy is 0.905109, Top-5 accuracy is 1.000000\n",
      "For the class          Bank_Swallow          on the CUB dataset, Top-1 accuracy is 0.466667, Top-5 accuracy is 0.700000\n",
      "For the class          Barn_Swallow          on the CUB dataset, Top-1 accuracy is 0.612717, Top-5 accuracy is 0.849711\n",
      "For the class         Cliff_Swallow          on the CUB dataset, Top-1 accuracy is 0.633333, Top-5 accuracy is 0.900000\n",
      "For the class          Tree_Swallow          on the CUB dataset, Top-1 accuracy is 0.633333, Top-5 accuracy is 0.800000\n",
      "For the class        Scarlet_Tanager         on the CUB dataset, Top-1 accuracy is 0.933333, Top-5 accuracy is 1.000000\n",
      "For the class         Summer_Tanager         on the CUB dataset, Top-1 accuracy is 0.933333, Top-5 accuracy is 1.000000\n",
      "For the class           Artic_Tern           on the CUB dataset, Top-1 accuracy is 0.591264, Top-5 accuracy is 1.000000\n",
      "For the class           Black_Tern           on the CUB dataset, Top-1 accuracy is 0.366667, Top-5 accuracy is 0.733333\n",
      "For the class          Caspian_Tern          on the CUB dataset, Top-1 accuracy is 0.465517, Top-5 accuracy is 0.942529\n",
      "For the class          Common_Tern           on the CUB dataset, Top-1 accuracy is 0.233333, Top-5 accuracy is 0.766667\n",
      "For the class          Elegant_Tern          on the CUB dataset, Top-1 accuracy is 0.401747, Top-5 accuracy is 0.831878\n",
      "For the class         Forsters_Tern          on the CUB dataset, Top-1 accuracy is 0.366667, Top-5 accuracy is 0.833333\n",
      "For the class           Least_Tern           on the CUB dataset, Top-1 accuracy is 0.962882, Top-5 accuracy is 0.962882\n",
      "For the class      Green_tailed_Towhee       on the CUB dataset, Top-1 accuracy is 0.766667, Top-5 accuracy is 0.933333\n",
      "For the class         Brown_Thrasher         on the CUB dataset, Top-1 accuracy is 0.702970, Top-5 accuracy is 0.984158\n",
      "For the class         Sage_Thrasher          on the CUB dataset, Top-1 accuracy is 0.700000, Top-5 accuracy is 0.900000\n",
      "For the class       Black_capped_Vireo       on the CUB dataset, Top-1 accuracy is 0.809524, Top-5 accuracy is 0.952381\n",
      "For the class       Blue_headed_Vireo        on the CUB dataset, Top-1 accuracy is 0.753846, Top-5 accuracy is 0.876923\n",
      "For the class       Philadelphia_Vireo       on the CUB dataset, Top-1 accuracy is 0.620690, Top-5 accuracy is 0.931034\n",
      "For the class         Red_eyed_Vireo         on the CUB dataset, Top-1 accuracy is 0.500000, Top-5 accuracy is 0.760000\n",
      "For the class         Warbling_Vireo         on the CUB dataset, Top-1 accuracy is 0.400000, Top-5 accuracy is 0.733333\n",
      "For the class        White_eyed_Vireo        on the CUB dataset, Top-1 accuracy is 0.530973, Top-5 accuracy is 0.827434\n",
      "For the class     Yellow_throated_Vireo      on the CUB dataset, Top-1 accuracy is 0.517241, Top-5 accuracy is 0.758621\n",
      "For the class      Bay_breasted_Warbler      on the CUB dataset, Top-1 accuracy is 0.740664, Top-5 accuracy is 0.842324\n",
      "For the class    Black_and_white_Warbler     on the CUB dataset, Top-1 accuracy is 0.800000, Top-5 accuracy is 0.933333\n",
      "For the class  Black_throated_Blue_Warbler   on the CUB dataset, Top-1 accuracy is 0.837168, Top-5 accuracy is 1.000000\n",
      "For the class      Blue_winged_Warbler       on the CUB dataset, Top-1 accuracy is 0.566667, Top-5 accuracy is 0.833333\n",
      "For the class         Canada_Warbler         on the CUB dataset, Top-1 accuracy is 0.573604, Top-5 accuracy is 0.822335\n",
      "For the class        Cape_May_Warbler        on the CUB dataset, Top-1 accuracy is 0.666667, Top-5 accuracy is 0.966667\n",
      "For the class        Cerulean_Warbler        on the CUB dataset, Top-1 accuracy is 0.866667, Top-5 accuracy is 1.000000\n",
      "For the class     Chestnut_sided_Warbler     on the CUB dataset, Top-1 accuracy is 0.677665, Top-5 accuracy is 0.857868\n",
      "For the class     Golden_winged_Warbler      on the CUB dataset, Top-1 accuracy is 0.758621, Top-5 accuracy is 0.931034\n",
      "For the class         Hooded_Warbler         on the CUB dataset, Top-1 accuracy is 0.645329, Top-5 accuracy is 0.761246\n",
      "For the class        Kentucky_Warbler        on the CUB dataset, Top-1 accuracy is 0.793103, Top-5 accuracy is 0.931034\n",
      "For the class        Magnolia_Warbler        on the CUB dataset, Top-1 accuracy is 0.866051, Top-5 accuracy is 1.000000\n",
      "For the class        Mourning_Warbler        on the CUB dataset, Top-1 accuracy is 0.500000, Top-5 accuracy is 0.866667\n",
      "For the class         Myrtle_Warbler         on the CUB dataset, Top-1 accuracy is 0.746725, Top-5 accuracy is 0.849345\n",
      "For the class       Nashville_Warbler        on the CUB dataset, Top-1 accuracy is 0.733333, Top-5 accuracy is 1.000000\n",
      "For the class     Orange_crowned_Warbler     on the CUB dataset, Top-1 accuracy is 0.367816, Top-5 accuracy is 0.626437\n",
      "For the class          Palm_Warbler          on the CUB dataset, Top-1 accuracy is 0.733333, Top-5 accuracy is 0.866667\n",
      "For the class          Pine_Warbler          on the CUB dataset, Top-1 accuracy is 0.600000, Top-5 accuracy is 0.838462\n",
      "For the class        Prairie_Warbler         on the CUB dataset, Top-1 accuracy is 0.866667, Top-5 accuracy is 1.000000\n",
      "For the class      Prothonotary_Warbler      on the CUB dataset, Top-1 accuracy is 0.896675, Top-5 accuracy is 1.000000\n",
      "For the class        Swainson_Warbler        on the CUB dataset, Top-1 accuracy is 0.500000, Top-5 accuracy is 0.730769\n",
      "For the class       Tennessee_Warbler        on the CUB dataset, Top-1 accuracy is 0.413793, Top-5 accuracy is 0.655172\n",
      "For the class         Wilson_Warbler         on the CUB dataset, Top-1 accuracy is 0.755474, Top-5 accuracy is 0.905109\n",
      "For the class      Worm_eating_Warbler       on the CUB dataset, Top-1 accuracy is 0.758621, Top-5 accuracy is 0.896552\n",
      "For the class         Yellow_Warbler         on the CUB dataset, Top-1 accuracy is 0.757642, Top-5 accuracy is 0.971616\n",
      "For the class      Northern_Waterthrush      on the CUB dataset, Top-1 accuracy is 0.600000, Top-5 accuracy is 0.966667\n",
      "For the class     Louisiana_Waterthrush      on the CUB dataset, Top-1 accuracy is 0.692140, Top-5 accuracy is 0.943231\n",
      "For the class        Bohemian_Waxwing        on the CUB dataset, Top-1 accuracy is 0.700000, Top-5 accuracy is 0.933333\n",
      "For the class         Cedar_Waxwing          on the CUB dataset, Top-1 accuracy is 0.798851, Top-5 accuracy is 0.959770\n",
      "For the class American_Three_toed_Woodpecker on the CUB dataset, Top-1 accuracy is 0.750000, Top-5 accuracy is 1.000000\n",
      "For the class      Pileated_Woodpecker       on the CUB dataset, Top-1 accuracy is 0.866667, Top-5 accuracy is 0.966667\n",
      "For the class     Red_bellied_Woodpecker     on the CUB dataset, Top-1 accuracy is 0.923077, Top-5 accuracy is 1.000000\n",
      "For the class    Red_cockaded_Woodpecker     on the CUB dataset, Top-1 accuracy is 0.896552, Top-5 accuracy is 0.965517\n",
      "For the class     Red_headed_Woodpecker      on the CUB dataset, Top-1 accuracy is 0.800000, Top-5 accuracy is 0.900000\n",
      "For the class        Downy_Woodpecker        on the CUB dataset, Top-1 accuracy is 0.766667, Top-5 accuracy is 0.966667\n",
      "For the class          Bewick_Wren           on the CUB dataset, Top-1 accuracy is 0.464602, Top-5 accuracy is 0.800885\n",
      "For the class          Cactus_Wren           on the CUB dataset, Top-1 accuracy is 0.833333, Top-5 accuracy is 0.933333\n",
      "For the class         Carolina_Wren          on the CUB dataset, Top-1 accuracy is 0.717949, Top-5 accuracy is 0.884615\n",
      "For the class           House_Wren           on the CUB dataset, Top-1 accuracy is 0.466667, Top-5 accuracy is 0.766667\n",
      "For the class           Marsh_Wren           on the CUB dataset, Top-1 accuracy is 0.660584, Top-5 accuracy is 0.850365\n",
      "For the class           Rock_Wren            on the CUB dataset, Top-1 accuracy is 0.566667, Top-5 accuracy is 0.766667\n",
      "For the class          Winter_Wren           on the CUB dataset, Top-1 accuracy is 0.812139, Top-5 accuracy is 0.962428\n",
      "For the class      Common_Yellowthroat       on the CUB dataset, Top-1 accuracy is 0.833333, Top-5 accuracy is 0.900000\n",
      "========================================================================================================================\n",
      "For the best model on the CUB dataset, Total Top-1 accuracy is 0.647912, Total Top-5 accuracy is 0.886089\n"
     ]
    },
    {
     "name": "stderr",
     "output_type": "stream",
     "text": [
      "\n"
     ]
    }
   ],
   "source": [
    "MODEL_PATH = os.path.join(\"Output\", \"resnet18_cub.pth\")\n",
    "test_resnet_with_cub(DATA_PATH, MODEL_PATH)"
   ]
  }
 ],
 "metadata": {
  "kaggle": {
   "accelerator": "gpu",
   "dataSources": [
    {
     "datasetId": 2534241,
     "sourceId": 5140550,
     "sourceType": "datasetVersion"
    }
   ],
   "dockerImageVersionId": 30699,
   "isGpuEnabled": true,
   "isInternetEnabled": true,
   "language": "python",
   "sourceType": "notebook"
  },
  "kernelspec": {
   "display_name": "Python 3",
   "language": "python",
   "name": "python3"
  },
  "language_info": {
   "codemirror_mode": {
    "name": "ipython",
    "version": 3
   },
   "file_extension": ".py",
   "mimetype": "text/x-python",
   "name": "python",
   "nbconvert_exporter": "python",
   "pygments_lexer": "ipython3",
   "version": "3.11.6"
  },
  "papermill": {
   "default_parameters": {},
   "duration": 9900.128476,
   "end_time": "2024-05-21T12:21:25.036629",
   "environment_variables": {},
   "exception": null,
   "input_path": "__notebook__.ipynb",
   "output_path": "__notebook__.ipynb",
   "parameters": {},
   "start_time": "2024-05-21T09:36:24.908153",
   "version": "2.5.0"
  }
 },
 "nbformat": 4,
 "nbformat_minor": 5
}
