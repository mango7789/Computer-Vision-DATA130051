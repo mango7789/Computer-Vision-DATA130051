{
 "cells": [
  {
   "cell_type": "markdown",
   "metadata": {},
   "source": [
    "### Set the path and enivronment"
   ]
  },
  {
   "cell_type": "code",
   "execution_count": 1,
   "metadata": {},
   "outputs": [],
   "source": [
    "import os\n",
    "\n",
    "os.environ['TF_ENABLE_ONEDNN_OPTS'] = '0'"
   ]
  },
  {
   "cell_type": "markdown",
   "metadata": {},
   "source": [
    "### Load functions"
   ]
  },
  {
   "cell_type": "code",
   "execution_count": 2,
   "metadata": {},
   "outputs": [
    {
     "name": "stderr",
     "output_type": "stream",
     "text": [
      "c:\\Users\\雪浪\\AppData\\Local\\Programs\\Python\\Python311\\Lib\\site-packages\\torchvision\\io\\image.py:13: UserWarning: Failed to load image Python extension: '[WinError 127] 找不到指定的程序。'If you don't plan on using image functionality from `torchvision.io`, you can ignore this warning. Otherwise, there might be something wrong with your environment. Did you have `libjpeg` or `libpng` installed before building `torchvision` from source?\n",
      "  warn(\n"
     ]
    }
   ],
   "source": [
    "from itertools import product\n",
    "from solver import train_resnet_with_cub"
   ]
  },
  {
   "cell_type": "markdown",
   "metadata": {},
   "source": [
    "### Hyper-parameters\n",
    "Due to the computation resource restricted, we first train on a fixed small epoch to find the best conmbination of `fine_tuning_lrs` and `output_lrs`"
   ]
  },
  {
   "cell_type": "code",
   "execution_count": 3,
   "metadata": {},
   "outputs": [],
   "source": [
    "# set hyper-parameters here\n",
    "num_epochs = 10\n",
    "fine_tuning_lrs = [1e-5, 5e-5, 1e-4]\n",
    "output_lrs = [1e-4, 5e-4, 1e-3, 5e-3, 1e-2]"
   ]
  },
  {
   "cell_type": "markdown",
   "metadata": {},
   "source": [
    "### Train"
   ]
  },
  {
   "cell_type": "code",
   "execution_count": null,
   "metadata": {},
   "outputs": [],
   "source": [
    "configurations = list(product(fine_tuning_lrs, output_lrs))\n",
    "best_accs = []\n",
    "\n",
    "# train with the pretrained model\n",
    "for config in configurations:\n",
    "    curr_best_acc = train_resnet_with_cub(num_epochs, fine_tuning_lr=config[0], output_lr=config[1])\n",
    "    best_accs.extend(curr_best_acc)\n",
    "    \n",
    "# write the results into a txt file\n",
    "with open('best_accuracy_lr.txt', 'w') as f:\n",
    "    f.write(\"Configuration        Accuracy\\n\")\n",
    "    f.write(\"=\" * 30 + \"\\n\")\n",
    "    for config, accuracy in zip(configurations, best_accs):\n",
    "        f.write(\"({:>7.5f}, {:>7.5f})   {:>8.6f}\\n\".format(config[0], config[1], accuracy))"
   ]
  },
  {
   "cell_type": "markdown",
   "metadata": {},
   "source": [
    "### Find the best epoch"
   ]
  },
  {
   "cell_type": "code",
   "execution_count": 4,
   "metadata": {},
   "outputs": [
    {
     "name": "stdout",
     "output_type": "stream",
     "text": [
      "Configuration        Accuracy\n",
      "==============================\n",
      "(0.0010, 0.0010)     0.456679\n",
      "(0.0010, 0.0050)     0.623921\n",
      "(0.0010, 0.0100)     0.644805\n",
      "(0.0010, 0.0500)     0.646358\n",
      "(0.0010, 0.1000)     0.640145\n",
      "(0.0050, 0.0010)     0.604936\n",
      "(0.0050, 0.0050)     0.654815\n",
      "(0.0050, 0.0100)     0.672592\n",
      "(0.0050, 0.0500)     0.691750\n",
      "(0.0050, 0.1000)     0.687090\n",
      "(0.0100, 0.0010)     0.618053\n",
      "(0.0100, 0.0050)     0.658440\n",
      "(0.0100, 0.0100)     0.679323\n",
      "(0.0100, 0.0500)     0.693994\n",
      "(0.0100, 0.1000)     0.692268\n"
     ]
    }
   ],
   "source": [
    "!more best_accuracy_lr.txt"
   ]
  },
  {
   "cell_type": "markdown",
   "metadata": {},
   "source": [
    "We can find that the best configuration of the model after training **10** epochs is $(0.01, 0.05)$. Now we use this configuration to find the best epoch."
   ]
  },
  {
   "cell_type": "code",
   "execution_count": null,
   "metadata": {},
   "outputs": [],
   "source": [
    "num_epochs = [10, 15, 20, 25, 30, 35, 40]\n",
    "fine_tuning_lrs = [1e-5]\n",
    "output_lrs = [1e-3]\n",
    "\n",
    "# init the configurations\n",
    "configurations = list(product(fine_tuning_lrs, output_lrs))\n",
    "best_accs = []\n",
    "\n",
    "# train with the pretrained model\n",
    "for config in configurations:\n",
    "    curr_best_acc = train_resnet_with_cub(num_epochs, fine_tuning_lr=config[0], output_lr=config[1])\n",
    "    best_accs.extend(curr_best_acc)\n",
    "    \n",
    "# write the results into a txt file\n",
    "with open('best_accuracy_ep.txt', 'w') as f:\n",
    "    f.write(\"Epoch  Accuracy\\n\")\n",
    "    f.write(\"=\" * 50 + \"\\n\")\n",
    "    for num_epoch, accuracy in zip(num_epochs, best_accs):\n",
    "        f.write(\"{:>2}     {:>8.6f}\\n\".format(num_epoch, accuracy))"
   ]
  },
  {
   "cell_type": "code",
   "execution_count": null,
   "metadata": {},
   "outputs": [],
   "source": [
    "!more best_accuracy_ep.txt"
   ]
  }
 ],
 "metadata": {
  "kernelspec": {
   "display_name": "Python 3",
   "language": "python",
   "name": "python3"
  },
  "language_info": {
   "codemirror_mode": {
    "name": "ipython",
    "version": 3
   },
   "file_extension": ".py",
   "mimetype": "text/x-python",
   "name": "python",
   "nbconvert_exporter": "python",
   "pygments_lexer": "ipython3",
   "version": "3.11.5"
  }
 },
 "nbformat": 4,
 "nbformat_minor": 2
}
