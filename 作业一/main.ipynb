{
 "cells": [
  {
   "cell_type": "code",
   "execution_count": 37,
   "metadata": {},
   "outputs": [
    {
     "name": "stdout",
     "output_type": "stream",
     "text": [
      "k\n",
      "a\n",
      "b\n"
     ]
    },
    {
     "data": {
      "text/plain": [
       "array([0., 0., 0., 0., 0., 0., 0., 0., 0., 0., 0., 0., 0., 0., 0., 0., 0.,\n",
       "       0., 0., 0.])"
      ]
     },
     "execution_count": 37,
     "metadata": {},
     "output_type": "execute_result"
    }
   ],
   "source": [
    "import numpy as np\n",
    "\n",
    "dtype = {\n",
    "    \"k\": np.float64,\n",
    "    \"a\": 555,\n",
    "    \"b\": 666,\n",
    "}\n",
    "\n",
    "for each in dtype:\n",
    "    print(each)\n",
    "\n",
    "a = np.zeros(20, dtype=np.float32)\n",
    "a.astype(np.float64)\n",
    "\n"
   ]
  },
  {
   "cell_type": "code",
   "execution_count": 20,
   "metadata": {},
   "outputs": [
    {
     "name": "stdout",
     "output_type": "stream",
     "text": [
      "(47040000,)\n",
      "(60000, 28, 28)\n",
      "(7840000,)\n",
      "(10000, 28, 28)\n",
      "(784,)\n"
     ]
    }
   ],
   "source": [
    "import urllib\n",
    "import gzip\n",
    "import os\n",
    "import numpy as np\n",
    "\n",
    "def download_minist():\n",
    "    urls = {\n",
    "        \"train_images\": \"http://fashion-mnist.s3-website.eu-central-1.amazonaws.com/train-images-idx3-ubyte.gz\",\n",
    "        \"train_labels\": \"http://fashion-mnist.s3-website.eu-central-1.amazonaws.com/train-labels-idx1-ubyte.gz\",\n",
    "        \"test_images\": \"http://fashion-mnist.s3-website.eu-central-1.amazonaws.com/t10k-images-idx3-ubyte.gz\",\n",
    "        \"test_labels\": \"http://fashion-mnist.s3-website.eu-central-1.amazonaws.com/t10k-labels-idx1-ubyte.gz\"\n",
    "    }\n",
    "\n",
    "    download = not os.path.exists('data')\n",
    "\n",
    "    if download:\n",
    "        os.makedirs('data')\n",
    "\n",
    "    train_images = download_and_extract_data(urls[\"train_images\"], os.path.join(\"data\", \"train-images-idx3-ubyte.gz\"), download)\n",
    "    train_labels = download_and_extract_data(urls[\"train_labels\"], os.path.join(\"data\", \"train-labels-idx1-ubyte.gz\"), download)\n",
    "    test_images = download_and_extract_data(urls[\"test_images\"], os.path.join(\"data\", \"t10k-images-idx3-ubyte.gz\"), download)\n",
    "    test_labels = download_and_extract_data(urls[\"test_labels\"], os.path.join(\"data\", \"t10k-labels-idx1-ubyte.gz\"), download)\n",
    "\n",
    "    train_images = train_images.reshape(-1, 28 * 28)\n",
    "    test_images = test_images.reshape(-1, 28 * 28)\n",
    "\n",
    "    data = {\n",
    "        'train_images': train_images,\n",
    "        'train_labels': train_labels,\n",
    "        'test_images': test_images,\n",
    "        'test_labels': test_labels\n",
    "    }\n",
    "\n",
    "    return data\n",
    "\n",
    "def download_and_extract_data(url, file_name, download=True):\n",
    "    if download:\n",
    "        urllib.request.urlretrieve(url, file_name)\n",
    "\n",
    "    with gzip.open(file_name, 'rb') as f:\n",
    "        if 'images' in file_name:\n",
    "            data = np.frombuffer(f.read(), dtype=np.uint8, offset=16)\n",
    "            print(data.shape)\n",
    "            data = data.reshape((-1, 28, 28))\n",
    "            print(data.shape)\n",
    "        else:\n",
    "            data = np.frombuffer(f.read(), dtype=np.uint8, offset=8)\n",
    "    return data\n",
    "\n",
    "\n",
    "data = download_minist()\n",
    "\n",
    "print(data['train_images'][0].shape)\n"
   ]
  },
  {
   "cell_type": "code",
   "execution_count": 22,
   "metadata": {},
   "outputs": [
    {
     "name": "stderr",
     "output_type": "stream",
     "text": [
      "usage: ipykernel_launcher.py [-h] --values VALUES [VALUES ...]\n",
      "ipykernel_launcher.py: error: the following arguments are required: --values\n"
     ]
    },
    {
     "ename": "SystemExit",
     "evalue": "2",
     "output_type": "error",
     "traceback": [
      "An exception has occurred, use %tb to see the full traceback.\n",
      "\u001b[1;31mSystemExit\u001b[0m\u001b[1;31m:\u001b[0m 2\n"
     ]
    },
    {
     "name": "stderr",
     "output_type": "stream",
     "text": [
      "c:\\Users\\雪浪\\AppData\\Local\\Programs\\Python\\Python311\\Lib\\site-packages\\IPython\\core\\interactiveshell.py:3516: UserWarning: To exit: use 'exit', 'quit', or Ctrl-D.\n",
      "  warn(\"To exit: use 'exit', 'quit', or Ctrl-D.\", stacklevel=1)\n"
     ]
    }
   ],
   "source": [
    "\n",
    "\n"
   ]
  }
 ],
 "metadata": {
  "kernelspec": {
   "display_name": "Python 3",
   "language": "python",
   "name": "python3"
  },
  "language_info": {
   "codemirror_mode": {
    "name": "ipython",
    "version": 3
   },
   "file_extension": ".py",
   "mimetype": "text/x-python",
   "name": "python",
   "nbconvert_exporter": "python",
   "pygments_lexer": "ipython3",
   "version": "3.11.5"
  }
 },
 "nbformat": 4,
 "nbformat_minor": 2
}
